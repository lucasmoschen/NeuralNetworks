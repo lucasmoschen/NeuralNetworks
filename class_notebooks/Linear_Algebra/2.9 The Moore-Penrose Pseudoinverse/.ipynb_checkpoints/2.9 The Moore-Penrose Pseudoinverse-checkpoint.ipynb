{
 "cells": [
  {
   "cell_type": "code",
   "execution_count": 1,
   "metadata": {
    "scrolled": false
   },
   "outputs": [],
   "source": [
    "import numpy as np\n",
    "import matplotlib.pyplot as plt\n",
    "import seaborn as sns"
   ]
  },
  {
   "cell_type": "code",
   "execution_count": 2,
   "metadata": {},
   "outputs": [
    {
     "name": "stdout",
     "output_type": "stream",
     "text": [
      "Populating the interactive namespace from numpy and matplotlib\n"
     ]
    }
   ],
   "source": [
    "# Plot style\n",
    "sns.set()\n",
    "%pylab inline\n",
    "pylab.rcParams['figure.figsize'] = (4, 4)"
   ]
  },
  {
   "cell_type": "code",
   "execution_count": 3,
   "metadata": {},
   "outputs": [
    {
     "data": {
      "text/html": [
       "<style>\n",
       ".pquote {\n",
       "  text-align: left;\n",
       "  margin: 40px 0 40px auto;\n",
       "  width: 70%;\n",
       "  font-size: 1.5em;\n",
       "  font-style: italic;\n",
       "  display: block;\n",
       "  line-height: 1.3em;\n",
       "  color: #5a75a7;\n",
       "  font-weight: 600;\n",
       "  border-left: 5px solid rgba(90, 117, 167, .1);\n",
       "  padding-left: 6px;\n",
       "}\n",
       ".notes {\n",
       "  font-style: italic;\n",
       "  display: block;\n",
       "  margin: 40px 10%;\n",
       "}\n",
       "img + em {\n",
       "  text-align: center;\n",
       "  display: block;\n",
       "  color: gray;\n",
       "  font-size: 0.9em;\n",
       "  font-weight: 600;\n",
       "}\n",
       "</style>\n"
      ],
      "text/plain": [
       "<IPython.core.display.HTML object>"
      ]
     },
     "metadata": {},
     "output_type": "display_data"
    }
   ],
   "source": [
    "%%html\n",
    "<style>\n",
    ".pquote {\n",
    "  text-align: left;\n",
    "  margin: 40px 0 40px auto;\n",
    "  width: 70%;\n",
    "  font-size: 1.5em;\n",
    "  font-style: italic;\n",
    "  display: block;\n",
    "  line-height: 1.3em;\n",
    "  color: #5a75a7;\n",
    "  font-weight: 600;\n",
    "  border-left: 5px solid rgba(90, 117, 167, .1);\n",
    "  padding-left: 6px;\n",
    "}\n",
    ".notes {\n",
    "  font-style: italic;\n",
    "  display: block;\n",
    "  margin: 40px 10%;\n",
    "}\n",
    "img + em {\n",
    "  text-align: center;\n",
    "  display: block;\n",
    "  color: gray;\n",
    "  font-size: 0.9em;\n",
    "  font-weight: 600;\n",
    "}\n",
    "</style>"
   ]
  },
  {
   "cell_type": "markdown",
   "metadata": {},
   "source": [
    "$$\n",
    "\\newcommand\\bs[1]{\\boldsymbol{#1}}\n",
    "\\newcommand\\norm[1]{\\left\\lVert#1\\right\\rVert}\n",
    "$$"
   ]
  },
  {
   "cell_type": "markdown",
   "metadata": {},
   "source": [
    "<span class='notes'>\n",
    "    This content is part of a series following the chapter 2 on linear algebra from the [Deep Learning Book](http://www.deeplearningbook.org/) by Goodfellow, I., Bengio, Y., and Courville, A. (2016). It aims to provide intuitions/drawings/python code on mathematical theories and is constructed as my understanding of these concepts. You can check the syllabus in the [introduction post](https://hadrienj.github.io/posts/Deep-Learning-Book-Series-Introduction/).\n",
    "</span>"
   ]
  },
  {
   "cell_type": "markdown",
   "metadata": {},
   "source": [
    "# Introduction\n",
    "\n",
    "We saw that not all matrices have an inverse. It is unfortunate because the inverse is used to solve system of equations. In some cases, a system of equation has no solution, and thus the inverse doesn't exist. However it can be useful to find a value that is almost a solution (in term of minimizing the error). We will see for instance how we can find the best-fit line of a set of data points with the pseudoinverse."
   ]
  },
  {
   "cell_type": "markdown",
   "metadata": {},
   "source": [
    "# 2.9 The Moore-Penrose Pseudoinverse"
   ]
  },
  {
   "cell_type": "markdown",
   "metadata": {},
   "source": [
    "The Moore-Penrose pseudoinverse is a direct application of the SVD (see [2.8](https://hadrienj.github.io/posts/Deep-Learning-Book-Series-2.8-Singular-Value-Decomposition/)). But before all, we have to remind that systems of equations can be expressed under the matrix form.\n",
    "\n",
    "As we have seen in [2.3](https://hadrienj.github.io/posts/Deep-Learning-Book-Series-2.3-Identity-and-Inverse-Matrices/), the inverse of a matrix $\\bs{A}$ can be used to solve the equation $\\bs{Ax}=\\bs{b}$:\n",
    "\n",
    "$$\n",
    "\\bs{A}^{-1}\\bs{Ax}=\\bs{A}^{-1}\\bs{b}\n",
    "$$\n",
    "\n",
    "$$\n",
    "\\bs{I}_n\\bs{x}=\\bs{A}^{-1}\\bs{b}\n",
    "$$\n",
    "\n",
    "$$\n",
    "\\bs{x}=\\bs{A}^{-1}\\bs{b}\n",
    "$$\n",
    "\n",
    "But in the case where the set of equations have 0 or many solutions the inverse cannot be found and the equation cannot be solved. The pseudoinverse is $\\bs{A}^+$ such as:\n",
    "\n",
    "$$\n",
    "\\bs{A}\\bs{A}^+\\approx\\bs{I_n}\n",
    "$$\n",
    "\n",
    "minimizing\n",
    "\n",
    "$$\n",
    "\\norm{\\bs{A}\\bs{A}^+-\\bs{I_n}}_2\n",
    "$$\n",
    "\n",
    "The following formula can be used to find the pseudoinverse:\n",
    "\n",
    "$$\n",
    "\\bs{A}^+= \\bs{VD}^+\\bs{U}^T\n",
    "$$\n",
    "\n",
    "with $\\bs{U}$, $\\bs{D}$ and $\\bs{V}$ respectively the left singular vectors, the singular values and the right singular vectors of $\\bs{A}$ (see the SVD in [2.8](https://hadrienj.github.io/posts/Deep-Learning-Book-Series-2.8-Singular-Value-Decomposition/)). $\\bs{A}^+$ is the pseudoinverse of $\\bs{A}$ and $\\bs{D}^+$ the pseudoinverse of $\\bs{D}$. We saw that $\\bs{D}$ is a diagonal matrix and thus $\\bs{D}^+$ can be calculated by taking the reciprocal of the non zero values of $\\bs{D}$.\n",
    "\n",
    "This is a bit crude but we will see some examples to clarify all of this.\n",
    "\n",
    "### Example 1.\n",
    "\n",
    "Let's see how to implement that. We will create a non square matrix $\\bs{A}$, calculate its singular value decomposition and its pseudoinverse.\n",
    "\n",
    "$$\n",
    "\\bs{A}=\\begin{bmatrix}\n",
    "    7 & 2\\\\\\\\\n",
    "    3 & 4\\\\\\\\\n",
    "    5 & 3\n",
    "\\end{bmatrix}\n",
    "$$"
   ]
  },
  {
   "cell_type": "code",
   "execution_count": 4,
   "metadata": {},
   "outputs": [
    {
     "data": {
      "text/plain": [
       "array([[ 0.16666667, -0.10606061,  0.03030303],\n",
       "       [-0.16666667,  0.28787879,  0.06060606]])"
      ]
     },
     "execution_count": 4,
     "metadata": {},
     "output_type": "execute_result"
    }
   ],
   "source": [
    "A = np.array([[7, 2], [3, 4], [5, 3]])\n",
    "U, D, V = np.linalg.svd(A)\n",
    "\n",
    "D_plus = np.zeros((A.shape[0], A.shape[1])).T\n",
    "D_plus[:D.shape[0], :D.shape[0]] = np.linalg.inv(np.diag(D))\n",
    "\n",
    "A_plus = V.T.dot(D_plus).dot(U.T)\n",
    "A_plus"
   ]
  },
  {
   "cell_type": "markdown",
   "metadata": {},
   "source": [
    "We can now check with the `pinv()` function from Numpy that the pseudoinverse is correct:"
   ]
  },
  {
   "cell_type": "code",
   "execution_count": 5,
   "metadata": {},
   "outputs": [
    {
     "data": {
      "text/plain": [
       "array([[ 0.16666667, -0.10606061,  0.03030303],\n",
       "       [-0.16666667,  0.28787879,  0.06060606]])"
      ]
     },
     "execution_count": 5,
     "metadata": {},
     "output_type": "execute_result"
    }
   ],
   "source": [
    "np.linalg.pinv(A)"
   ]
  },
  {
   "cell_type": "markdown",
   "metadata": {},
   "source": [
    "It looks good! We can now check that it is really the near inverse of $\\bs{A}$. Since we know that\n",
    "\n",
    "$$\\bs{A}^{-1}\\bs{A}=\\bs{I_n}$$\n",
    "\n",
    "with\n",
    "\n",
    "$$\\bs{I_2}=\\begin{bmatrix}\n",
    "    1 & 0 \\\\\\\\\n",
    "    0 & 1\n",
    "\\end{bmatrix}\n",
    "$$"
   ]
  },
  {
   "cell_type": "code",
   "execution_count": 6,
   "metadata": {},
   "outputs": [
    {
     "data": {
      "text/plain": [
       "array([[1.00000000e+00, 2.70616862e-16],\n",
       "       [2.28983499e-16, 1.00000000e+00]])"
      ]
     },
     "execution_count": 6,
     "metadata": {},
     "output_type": "execute_result"
    }
   ],
   "source": [
    "A_plus.dot(A)"
   ]
  },
  {
   "cell_type": "markdown",
   "metadata": {},
   "source": [
    "This is not bad! This is almost the identity matrix!\n",
    "\n",
    "A difference with the real inverse is that $\\bs{A}^+\\bs{A}\\approx\\bs{I}$ but $\\bs{A}\\bs{A}^+\\neq\\bs{I}$.\n",
    "\n",
    "Another way of computing the pseudoinverse is to use this formula:\n",
    "\n",
    "$$\n",
    "(\\bs{A}^T\\bs{A})^{-1}\\bs{A}^T\n",
    "$$\n",
    "\n",
    "The result is less acurate than the SVD method and Numpy `pinv()` uses the SVD ([cf Numpy doc](https://docs.scipy.org/doc/numpy/reference/generated/numpy.linalg.pinv.html)). Here is an example from the same matrix $\\bs{A}$:"
   ]
  },
  {
   "cell_type": "code",
   "execution_count": 7,
   "metadata": {},
   "outputs": [
    {
     "data": {
      "text/plain": [
       "array([[ 0.16666667, -0.10606061,  0.03030303],\n",
       "       [-0.16666667,  0.28787879,  0.06060606]])"
      ]
     },
     "execution_count": 7,
     "metadata": {},
     "output_type": "execute_result"
    }
   ],
   "source": [
    "A_plus_1 = np.linalg.inv(A.T.dot(A)).dot(A.T)\n",
    "A_plus_1"
   ]
  },
  {
   "cell_type": "markdown",
   "metadata": {},
   "source": [
    "In this case the result is the same as with the SVD way."
   ]
  },
  {
   "cell_type": "markdown",
   "metadata": {},
   "source": [
    "\n",
    "## Using the pseudoinverse to solve a overdetermined system of linear equations\n",
    "\n",
    "In general there is no solution to overdetermined systems (see [2.4](https://hadrienj.github.io/posts/Deep-Learning-Book-Series-2.4-Linear-Dependence-and-Span/) ; [Overdetermined systems](https://en.wikipedia.org/wiki/Overdetermined_system)). In the following picture, there is no point at the intersection of the three lines corresponding to three equations:\n",
    "\n",
    "<img src=\"images/overdetermined-system-equations-python.png\" width=\"300\" alt=\"Example of three linear equations in 2 dimensions: this is an overdetermined system\" title=\"Overdetermined system of equations\">\n",
    "<em>There is more equations (3) than unknowns (2) so this is an overdetermined system of equations</em>\n",
    "\n",
    "The pseudoinverse solve the system in the least square error perspective: it finds the solution that minimize the error. We will see this more explicitly with an example.\n",
    "\n",
    "<span class='pquote'>\n",
    "    The pseudoinverse solve the system in the least square error perspective\n",
    "</span>\n",
    "\n",
    "### Example 2.\n",
    "\n",
    "For this example we will consider this set of three equations with two unknowns:\n",
    "\n",
    "$$\n",
    "\\begin{cases}\n",
    "-2x_1 + 2 = x_2 \\\\\\\\\n",
    "4x_1 + 8 = x_2 \\\\\\\\\n",
    "-1x_1 + 2 = x_2\n",
    "\\end{cases}\n",
    "\\Leftrightarrow\n",
    "\\begin{cases}\n",
    "-2x_1 - x_2 = -2 \\\\\\\\\n",
    "4x_1 - x_2 = -8 \\\\\\\\\n",
    "-1x_1 - x_2 = -2\n",
    "\\end{cases}\n",
    "$$\n",
    "\n",
    "Let's see their graphical representation:"
   ]
  },
  {
   "cell_type": "code",
   "execution_count": 8,
   "metadata": {},
   "outputs": [
    {
     "data": {
      "image/png": "[encoded data removed]",
      "text/plain": [
       "<Figure size 288x288 with 1 Axes>"
      ]
     },
     "metadata": {
      "needs_background": "light"
     },
     "output_type": "display_data"
    }
   ],
   "source": [
    "x1 = np.linspace(-5, 5, 1000)\n",
    "x2_1 = -2*x1 + 2\n",
    "x2_2 = 4*x1 + 8\n",
    "x2_3 = -1*x1 + 2\n",
    "\n",
    "plt.plot(x1, x2_1)\n",
    "plt.plot(x1, x2_2)\n",
    "plt.plot(x1, x2_3)\n",
    "plt.xlim(-2., 1)\n",
    "plt.ylim(1, 5)\n",
    "plt.show()"
   ]
  },
  {
   "cell_type": "markdown",
   "metadata": {},
   "source": [
    "We actually see that there is no solution.\n",
    "\n",
    "Putting this into the matrix form we have:\n",
    "\n",
    "$$\n",
    "\\bs{A}=\n",
    "\\begin{bmatrix}\n",
    "    -2 & -1 \\\\\\\\\n",
    "    4 & -1 \\\\\\\\\n",
    "    -1 & -1\n",
    "\\end{bmatrix}\n",
    "$$\n",
    "\n",
    "$$\n",
    "\\bs{x}=\n",
    "\\begin{bmatrix}\n",
    "    x_1 \\\\\\\\\n",
    "    x_2\n",
    "\\end{bmatrix}\n",
    "$$\n",
    "\n",
    "and\n",
    "\n",
    "$$\n",
    "\\bs{b}=\n",
    "\\begin{bmatrix}\n",
    "    -2 \\\\\\\\\n",
    "    -8 \\\\\\\\\n",
    "    -2\n",
    "\\end{bmatrix}\n",
    "$$\n",
    "\n",
    "So we have:\n",
    "\n",
    "$$\n",
    "\\bs{Ax} = \\bs{b}\n",
    "\\Leftrightarrow\n",
    "\\begin{bmatrix}\n",
    "    -2 & -1 \\\\\\\\\n",
    "    4 & -1 \\\\\\\\\n",
    "    -1 & -1\n",
    "\\end{bmatrix}\n",
    "\\begin{bmatrix}\n",
    "    x_1 \\\\\\\\\n",
    "    x_2\n",
    "\\end{bmatrix}\n",
    "=\n",
    "\\begin{bmatrix}\n",
    "    -2 \\\\\\\\\n",
    "    -8 \\\\\\\\\n",
    "    -2\n",
    "\\end{bmatrix}\n",
    "$$\n",
    "\n",
    "We will now calculate the pseudoinverse of $\\bs{A}$:"
   ]
  },
  {
   "cell_type": "code",
   "execution_count": 9,
   "metadata": {},
   "outputs": [
    {
     "data": {
      "text/plain": [
       "array([[-0.11290323,  0.17741935, -0.06451613],\n",
       "       [-0.37096774, -0.27419355, -0.35483871]])"
      ]
     },
     "execution_count": 9,
     "metadata": {},
     "output_type": "execute_result"
    }
   ],
   "source": [
    "A = np.array([[-2, -1], [4, -1], [-1, -1]])\n",
    "A_plus = np.linalg.pinv(A)\n",
    "A_plus"
   ]
  },
  {
   "cell_type": "markdown",
   "metadata": {},
   "source": [
    "Now that we have calculated the pseudoinverse of $\\bs{A}$:\n",
    "\n",
    "$$\n",
    "\\bs{A}^+=\n",
    "\\begin{bmatrix}\n",
    "    -0.11290323 &  0.17741935 & -0.06451613 \\\\\\\\\n",
    "    -0.37096774 & -0.27419355 & -0.35483871\n",
    "\\end{bmatrix}\n",
    "$$\n",
    "\n",
    "we can use it to find $\\bs{x}$ knowing that:\n",
    "\n",
    "$$\n",
    "\\bs{x}=\\bs{A}^+\\bs{b}\n",
    "$$\n",
    "\n",
    "with:\n",
    "\n",
    "$$\n",
    "\\bs{x}\n",
    "=\n",
    "\\begin{bmatrix}\n",
    "    x1 \\\\\\\\\n",
    "    x2\n",
    "\\end{bmatrix}\n",
    "$$"
   ]
  },
  {
   "cell_type": "code",
   "execution_count": 10,
   "metadata": {},
   "outputs": [
    {
     "data": {
      "text/plain": [
       "array([[-1.06451613],\n",
       "       [ 3.64516129]])"
      ]
     },
     "execution_count": 10,
     "metadata": {},
     "output_type": "execute_result"
    }
   ],
   "source": [
    "b = np.array([[-2], [-8], [-2]])\n",
    "res = A_plus.dot(b)\n",
    "res"
   ]
  },
  {
   "cell_type": "markdown",
   "metadata": {},
   "source": [
    "So we have\n",
    "\n",
    "$$\n",
    "\\begin{align*}\n",
    "\\bs{A}^+\\bs{b}&=\n",
    "\\begin{bmatrix}\n",
    "    -0.11290323 &  0.17741935 & -0.06451613 \\\\\\\\\n",
    "    -0.37096774 & -0.27419355 & -0.35483871\n",
    "\\end{bmatrix}\n",
    "\\begin{bmatrix}\n",
    "    -2 \\\\\\\\\n",
    "    -8 \\\\\\\\\n",
    "    -2\n",
    "\\end{bmatrix}\\\\\\\\\n",
    "&=\n",
    "\\begin{bmatrix}\n",
    "    -1.06451613 \\\\\\\\\n",
    "    3.64516129\n",
    "\\end{bmatrix}\n",
    "\\end{align*}\n",
    "$$\n",
    "\n",
    "In our two dimensions, the coordinates of $\\bs{x}$ are\n",
    "\n",
    "$$\n",
    "\\begin{bmatrix}\n",
    "    -1.06451613 \\\\\\\\\n",
    "    3.64516129\n",
    "\\end{bmatrix}\n",
    "$$\n",
    "\n",
    "Let's plot this point along with the equations lines:"
   ]
  },
  {
   "cell_type": "code",
   "execution_count": 11,
   "metadata": {},
   "outputs": [
    {
     "data": {
      "image/png": "[encoded data removed]",
      "text/plain": [
       "<Figure size 288x288 with 1 Axes>"
      ]
     },
     "metadata": {
      "needs_background": "light"
     },
     "output_type": "display_data"
    }
   ],
   "source": [
    "plt.plot(x1, x2_1)\n",
    "plt.plot(x1, x2_2)\n",
    "plt.plot(x1, x2_3)\n",
    "plt.xlim(-2., 1)\n",
    "plt.ylim(1, 5)\n",
    "\n",
    "plt.scatter(res[0], res[1])\n",
    "\n",
    "plt.show()"
   ]
  },
  {
   "cell_type": "markdown",
   "metadata": {},
   "source": [
    "Maybe you would have expected the point being at the barycenter of the triangle (cf. [Least square solution in the triangle center](https://math.stackexchange.com/questions/471812/is-the-least-squares-solution-to-an-overdetermined-system-a-triangle-center)). This is not the case becase the equations are not scaled the same way. Actually the point is at the intersection of the three [symmedians](https://en.wikipedia.org/wiki/Symmedian) of the triangle."
   ]
  },
  {
   "cell_type": "markdown",
   "metadata": {},
   "source": [
    "### Example 3.\n",
    "\n",
    "This method can also be used to fit a line to a set of points. Let's take the following data points:\n",
    "\n",
    "<img src=\"images/dataset-representation.png\" width=\"300\" alt=\"Representation of a set of data points\" title=\"Some data points\">\n",
    "<em>We want to fit a line to this set of data points</em>\n",
    "\n",
    "We have this set of $\\bs{x}$ and $\\bs{y}$ and we are looking for the line $y=mx+b$ that minimizes the error. The error can be evaluated as the sum of the differences between the fit and the actual data points. We can represent the data points with a matrix equations:\n",
    "\n",
    "$$\n",
    "\\bs{Ax} = \\bs{b}\n",
    "\\Leftrightarrow\n",
    "\\begin{bmatrix}\n",
    "    0 & 1 \\\\\\\\\n",
    "    1 & 1 \\\\\\\\\n",
    "    2 & 1 \\\\\\\\\n",
    "    3 & 1 \\\\\\\\\n",
    "    3 & 1 \\\\\\\\\n",
    "    4 & 1\n",
    "\\end{bmatrix}\n",
    "\\begin{bmatrix}\n",
    "    m \\\\\\\\\n",
    "    b\n",
    "\\end{bmatrix}\n",
    "=\n",
    "\\begin{bmatrix}\n",
    "    2 \\\\\\\\\n",
    "    4 \\\\\\\\\n",
    "    0 \\\\\\\\\n",
    "    2 \\\\\\\\\n",
    "    5 \\\\\\\\\n",
    "    3\n",
    "\\end{bmatrix}\n",
    "$$\n",
    "\n",
    "Note that here the matrix $\\bs{A}$ represents the values of the coefficients. The column of 1 correspond to the intercepts (without it the fit would have the constraint to cross the origin). It gives the following set of equations:\n",
    "\n",
    "$$\n",
    "\\begin{cases}\n",
    "    0m + 1b = 2 \\\\\\\\\n",
    "    1m + 1b = 4 \\\\\\\\\n",
    "    2m + 1b = 0 \\\\\\\\\n",
    "    3m + 1b = 2 \\\\\\\\\n",
    "    3m + 1b = 5 \\\\\\\\\n",
    "    4m + 1b = 3\n",
    "\\end{cases}\n",
    "$$\n",
    "\n",
    "We have the set of equations $mx+b=y$. The ones are used to give back the intercept parameter. For instance, in the first equation corresponding to the first point we have well $x=0$ and $y=2$. This can be confusing because here the vector $\\bs{x}$ corresponds to the coefficients. This is because the problem is different from the other examples: we are looking for the coefficients of a line and not for $x$ and $y$ unknowns. We kept this notation to indicate the similarity with the last examples.\n",
    "\n",
    "So we will construct these matrices and try to use the pseudoinverse to find the equation of the line minimizing the error (difference between the line and the actual data points).\n",
    "\n",
    "Let's start with the creation of the matrix of $\\bs{A}$ and $\\bs{b}$:"
   ]
  },
  {
   "cell_type": "code",
   "execution_count": 12,
   "metadata": {},
   "outputs": [
    {
     "data": {
      "text/plain": [
       "array([[0, 1],\n",
       "       [1, 1],\n",
       "       [2, 1],\n",
       "       [3, 1],\n",
       "       [3, 1],\n",
       "       [4, 1]])"
      ]
     },
     "execution_count": 12,
     "metadata": {},
     "output_type": "execute_result"
    }
   ],
   "source": [
    "A = np.array([[0, 1], [1, 1], [2, 1], [3, 1], [3, 1], [4, 1]])\n",
    "A"
   ]
  },
  {
   "cell_type": "code",
   "execution_count": 13,
   "metadata": {},
   "outputs": [
    {
     "data": {
      "text/plain": [
       "array([[2],\n",
       "       [4],\n",
       "       [0],\n",
       "       [2],\n",
       "       [5],\n",
       "       [3]])"
      ]
     },
     "execution_count": 13,
     "metadata": {},
     "output_type": "execute_result"
    }
   ],
   "source": [
    "b = np.array([[2], [4], [0], [2], [5], [3]])\n",
    "b"
   ]
  },
  {
   "cell_type": "markdown",
   "metadata": {},
   "source": [
    "We can now calculate the pseudoinverse of $\\bs{A}$:"
   ]
  },
  {
   "cell_type": "code",
   "execution_count": 14,
   "metadata": {},
   "outputs": [
    {
     "data": {
      "text/plain": [
       "array([[-2.00000000e-01, -1.07692308e-01, -1.53846154e-02,\n",
       "         7.69230769e-02,  7.69230769e-02,  1.69230769e-01],\n",
       "       [ 6.00000000e-01,  4.00000000e-01,  2.00000000e-01,\n",
       "         4.00160154e-17,  4.00160154e-17, -2.00000000e-01]])"
      ]
     },
     "execution_count": 14,
     "metadata": {},
     "output_type": "execute_result"
    }
   ],
   "source": [
    "A_plus = np.linalg.pinv(A)\n",
    "A_plus"
   ]
  },
  {
   "cell_type": "markdown",
   "metadata": {},
   "source": [
    "and apply it to the result to find the coefficients with the formula:\n",
    "\n",
    "$$\n",
    "\\bs{x}=\\bs{A}^+\\bs{b}\n",
    "$$"
   ]
  },
  {
   "cell_type": "code",
   "execution_count": 15,
   "metadata": {},
   "outputs": [
    {
     "data": {
      "text/plain": [
       "array([[0.21538462],\n",
       "       [2.2       ]])"
      ]
     },
     "execution_count": 15,
     "metadata": {},
     "output_type": "execute_result"
    }
   ],
   "source": [
    "coefs = A_plus.dot(b)\n",
    "coefs"
   ]
  },
  {
   "cell_type": "markdown",
   "metadata": {},
   "source": [
    "These are the parameters of the fit. The slope is $m=0.21538462$ and the intercept is $b=2.2$. We will plot the data points and the regression line: "
   ]
  },
  {
   "cell_type": "code",
   "execution_count": 16,
   "metadata": {},
   "outputs": [
    {
     "data": {
      "image/png": "[encoded data removed]",
      "text/plain": [
       "<Figure size 288x288 with 1 Axes>"
      ]
     },
     "metadata": {
      "needs_background": "light"
     },
     "output_type": "display_data"
    }
   ],
   "source": [
    "x = np.linspace(-1, 5, 1000)\n",
    "y = coefs[0]*x + coefs[1]\n",
    "\n",
    "plt.plot(A[:, 0], b, '*')\n",
    "plt.plot(x, y)\n",
    "plt.xlim(-1., 6)\n",
    "plt.ylim(-0.5, 5.5)\n",
    "\n",
    "plt.show()"
   ]
  },
  {
   "cell_type": "markdown",
   "metadata": {},
   "source": [
    "If you are not sure about the result. Just check it with another method. For instance, I double-checked with R:\n",
    "\n",
    "```r\n",
    "a <- data.frame(x=c(0, 1, 2, 3, 3, 4),\n",
    "                y=c(2, 4, 0, 2, 5, 3))\n",
    "\n",
    "ggplot(data=a, aes(x=x, y=y)) +\n",
    "  geom_point() +\n",
    "  stat_smooth(method = \"lm\", col = \"red\") +\n",
    "  xlim(-1, 5) +\n",
    "  ylim(-1, 6)\n",
    "```\n",
    "\n",
    "outputs:\n",
    "\n",
    "<img src=\"images/linear-regression-r.png\" width=\"300\" alt=\"Fitting a line with another method (in R)\" title=\"Fitting with R\">\n",
    "<em>Just checking with another method</em>\n",
    "\n",
    "You can also do the fit with the Numpy `polyfit()` to check the parameters:"
   ]
  },
  {
   "cell_type": "code",
   "execution_count": 17,
   "metadata": {},
   "outputs": [
    {
     "data": {
      "text/plain": [
       "array([[0.21538462],\n",
       "       [2.2       ]])"
      ]
     },
     "execution_count": 17,
     "metadata": {},
     "output_type": "execute_result"
    }
   ],
   "source": [
    "np.polyfit(A[:, 0], b, 1)"
   ]
  },
  {
   "cell_type": "markdown",
   "metadata": {},
   "source": [
    "That's good! We have seen how to use the pseudoinverse in order to solve a simple regression problem. Let's see with a more realistic case."
   ]
  },
  {
   "cell_type": "markdown",
   "metadata": {},
   "source": [
    "### Example 4.\n",
    "\n",
    "To see the process with more data points we can generate data (see [this nice blog post](https://mec560sbu.github.io/2016/08/29/Least_SQ_Fitting/) for other methods of fitting).\n",
    "\n",
    "We will generate a column vector (see `reshape()` bellow) containing 100 points with random $x$ values and pseudo-random $y$ values. The function `seed()` from the [Numpy.random package](https://docs.scipy.org/doc/numpy/reference/generated/numpy.random.seed.html) is used to freeze the randomisation and be able to reproduce the results:"
   ]
  },
  {
   "cell_type": "code",
   "execution_count": 18,
   "metadata": {},
   "outputs": [],
   "source": [
    "np.random.seed(123)\n",
    "x = 5*np.random.rand(100)\n",
    "y = 2*x + 1 + np.random.randn(100)\n",
    "\n",
    "x = x.reshape(100, 1)\n",
    "y = y.reshape(100, 1)"
   ]
  },
  {
   "cell_type": "markdown",
   "metadata": {
    "collapsed": true
   },
   "source": [
    "We will create the matrix $\\bs{A}$ from $\\bs{x}$ by adding a column of ones exactly like we did in the example 3."
   ]
  },
  {
   "cell_type": "code",
   "execution_count": 19,
   "metadata": {},
   "outputs": [
    {
     "data": {
      "text/plain": [
       "array([[3.48234593, 1.        ],\n",
       "       [1.43069667, 1.        ],\n",
       "       [1.13425727, 1.        ],\n",
       "       [2.75657385, 1.        ],\n",
       "       [3.59734485, 1.        ],\n",
       "       [2.1155323 , 1.        ],\n",
       "       [4.90382099, 1.        ],\n",
       "       [3.42414869, 1.        ],\n",
       "       [2.40465951, 1.        ],\n",
       "       [1.96058759, 1.        ]])"
      ]
     },
     "execution_count": 19,
     "metadata": {},
     "output_type": "execute_result"
    }
   ],
   "source": [
    "A = np.hstack((x, np.ones(np.shape(x))))\n",
    "A[:10]"
   ]
  },
  {
   "cell_type": "markdown",
   "metadata": {},
   "source": [
    "We can now find the pseudoinverse of $\\bs{A}$ and calculate the coefficients of the regression line:"
   ]
  },
  {
   "cell_type": "code",
   "execution_count": 20,
   "metadata": {},
   "outputs": [
    {
     "data": {
      "text/plain": [
       "array([[1.9461907 ],\n",
       "       [1.16994745]])"
      ]
     },
     "execution_count": 20,
     "metadata": {},
     "output_type": "execute_result"
    }
   ],
   "source": [
    "A_plus = np.linalg.pinv(A)\n",
    "coefs = A_plus.dot(y)\n",
    "coefs"
   ]
  },
  {
   "cell_type": "markdown",
   "metadata": {
    "collapsed": true
   },
   "source": [
    "We can finally draw the point and the regression line:"
   ]
  },
  {
   "cell_type": "code",
   "execution_count": 21,
   "metadata": {},
   "outputs": [
    {
     "data": {
      "image/png": "[encoded data removed]",
      "text/plain": [
       "<Figure size 288x288 with 1 Axes>"
      ]
     },
     "metadata": {
      "needs_background": "light"
     },
     "output_type": "display_data"
    }
   ],
   "source": [
    "x_line = np.linspace(0, 5, 1000)\n",
    "y_line = coefs[0]*x_line + coefs[1]\n",
    "\n",
    "plt.plot(x, y, '*')\n",
    "plt.plot(x_line, y_line)\n",
    "plt.show()"
   ]
  },
  {
   "cell_type": "markdown",
   "metadata": {},
   "source": [
    "Looks good!\n",
    "\n",
    "# Conclusion\n",
    "\n",
    "You can see that the pseudoinverse can be very useful for this kind of problems! The series is not completely finished since we still have 3 chapters to cover. However, we have done the hardest part! We will now see two very light chapters before going to a nice example using all the linear algebra we have learn: the PCA."
   ]
  },
  {
   "cell_type": "markdown",
   "metadata": {},
   "source": [
    "<span class='notes'>\n",
    "    Feel free to drop me an email or a comment. The syllabus of this series can be found [in the introduction post](https://hadrienj.github.io/posts/Deep-Learning-Book-Series-Introduction/). All the notebooks can be found on [Github](https://github.com/hadrienj/deepLearningBook-Notes).\n",
    "</span>"
   ]
  },
  {
   "cell_type": "markdown",
   "metadata": {
    "collapsed": true
   },
   "source": [
    "# References\n",
    "\n",
    "## Intuition\n",
    "\n",
    "- [Sean Owen - Pseudoinverse intuition](https://www.quora.com/What-is-the-intuition-behind-pseudo-inverse-of-a-matrix)\n",
    "\n",
    "## Numpy\n",
    "\n",
    "- [Numpy - linalg.pinv](https://docs.scipy.org/doc/numpy/reference/generated/numpy.linalg.pinv.html)\n",
    "\n",
    "- [Numpy random seed](https://docs.scipy.org/doc/numpy/reference/generated/numpy.random.seed.html)\n",
    "\n",
    "## Systems of equations\n",
    "\n",
    "- [Using the Moore-Penrose Pseudoinverse to Solve Linear Equations](https://www.youtube.com/watch?v=5bxsxM2UTb4)\n",
    "\n",
    "- [Overdetermined systems](https://en.wikipedia.org/wiki/Overdetermined_system)\n",
    "\n",
    "- [Least square solution in the triangle center](https://math.stackexchange.com/questions/471812/is-the-least-squares-solution-to-an-overdetermined-system-a-triangle-center)\n",
    "\n",
    "- [Symmedian](https://en.wikipedia.org/wiki/Symmedian)\n",
    "\n",
    "## Least square fit\n",
    "\n",
    "- [Least square fitting](https://mec560sbu.github.io/2016/08/29/Least_SQ_Fitting/)"
   ]
  },
  {
   "cell_type": "code",
   "execution_count": null,
   "metadata": {
    "collapsed": true
   },
   "outputs": [],
   "source": []
  }
 ],
 "metadata": {
  "kernelspec": {
   "display_name": "Python 3.7.3 64-bit ('base')",
   "language": "python",
   "name": "python37364bitbase6782713bed674ed7a26121bd52530782"
  },
  "language_info": {
   "codemirror_mode": {
    "name": "ipython",
    "version": 3
   },
   "file_extension": ".py",
   "mimetype": "text/x-python",
   "name": "python",
   "nbconvert_exporter": "python",
   "pygments_lexer": "ipython3",
   "version": "3.7.3"
  }
 },
 "nbformat": 4,
 "nbformat_minor": 2
}
