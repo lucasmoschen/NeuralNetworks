{
 "cells": [
  {
   "cell_type": "markdown",
   "metadata": {
    "colab_type": "text",
    "id": "pdmqqvbyL_sz"
   },
   "source": [
    "# [Implementing Neural Networks with Numpy](https://towardsdatascience.com/math-neural-network-from-scratch-in-python-d6da9f29ce65)\n",
    "\n",
    "## [Part 5: Neural Networks from Scratch (with classes)](https://github.com/OmarAflak/Medium-Python-Neural-Network)  "
   ]
  },
  {
   "cell_type": "markdown",
   "metadata": {},
   "source": [
    "In this post we will go through the mathematics of machine learning and code from scratch, in Python, a small library to build neural networks with a variety of layers (Fully Connected, Convolutional, etc.). Eventually, we will be able to create networks in a modular fashion:\n",
    "\n",
    "#### Layer by Layer\n",
    "\n",
    "We need to keep in mind the big picture here :\n",
    "\n",
    "+ We feed input data into the neural network.\n",
    "+ The data flows from layer to layer until we have the output.\n",
    "+ Once we have the output, we can calculate the error which is a scalar.\n",
    "+ Finally we can adjust a given parameter (weight or bias) by subtracting the derivative of the error with respect to the parameter itself.\n",
    "    \n",
    "We iterate through that process.\n",
    "\n",
    "The most important step is the 4th. We want to be able to have as many layers as we want, and of any type. But if we modify/add/remove one layer from the network, the output of the network is going to change, which is going to change the error, which is going to change the derivative of the error with respect to the parameters. We need to be able to compute the derivatives regardless of the network architecture, regardless of the activation functions, regardless of the loss we use.\n",
    "\n",
    "In order to achieve that, we must implement each layer separately.\n",
    "\n",
    "### What every layer should implement\n",
    "\n",
    "Every layer that we might create (fully connected, convolutional, maxpooling, dropout, etc.) have at least 2 things in common: input and output data.\n",
    "\n",
    "![Layers](./Images/1nn.png)"
   ]
  },
  {
   "cell_type": "markdown",
   "metadata": {},
   "source": [
    "### Forward propagation\n",
    "\n",
    "We can already emphasize one important point which is: the output of one layer is the input of the next one.\n",
    "\n",
    "![Layers](./Images/2nn.png)"
   ]
  },
  {
   "cell_type": "markdown",
   "metadata": {},
   "source": [
    "This is called forward propagation. Essentially, we give the input data to the first layer, then the output of every layer becomes the input of the next layer until we reach the end of the network. By comparing the result of the network (Y) with the desired output (let’s say Y*), we can calculate en error E. The goal is to minimize that error by changing the parameters in the network. That is backward propagation (backpropagation).\n",
    "\n",
    "### Gradient Descent\n",
    "\n",
    "This is a quick reminder, if you need to learn more about gradient descent there are tons of resources on the internet.\n",
    "\n",
    "Basically, we want to change some parameter in the network (call it w) so that the total error E decreases. There is a clever way to do it (not randomly) which is the following :\n",
    "\n",
    "![Layers](./Images/3nn.png)"
   ]
  },
  {
   "cell_type": "markdown",
   "metadata": {},
   "source": [
    "Where α is a parameter in the range [0,1] that we set and that is called the learning rate. Anyway, the important thing here is ∂E/∂w (the derivative of E with respect to w). We need to be able to find the value of that expression for any parameter of the network regardless of its architecture.\n",
    "Backward propagation\n",
    "\n",
    "Suppose that we give a layer the derivative of the error with respect to its output (∂E/∂Y), then it must be able to provide the derivative of the error with respect to its input (∂E/∂X).\n",
    "\n",
    "![Layers](./Images/4nn.png)"
   ]
  },
  {
   "cell_type": "markdown",
   "metadata": {},
   "source": [
    "Remember that E is a scalar (a number) and X and Y are matrices.\n",
    "\n",
    "![Layers](./Images/5nn.png)"
   ]
  },
  {
   "cell_type": "markdown",
   "metadata": {},
   "source": [
    "Let’s forget about ∂E/∂X for now. The trick here, is that if we have access to ∂E/∂Y we can very easily calculate ∂E/∂W (if the layer has any trainable parameters) without knowing anything about the network architecture! \n",
    "We simply use the chain rule :\n",
    "\n",
    "![Layers](./Images/6nn.png)"
   ]
  },
  {
   "cell_type": "markdown",
   "metadata": {},
   "source": [
    "The unknown is $∂y_j/∂w$ which totally depends on how the layer is computing its output. So if every layer have access to ∂E/∂Y, where Y is its own output, then we can update our parameters!\n",
    "\n",
    "### But why ∂E/∂X ?\n",
    "\n",
    "Don’t forget, the output of one layer is the input of the next layer. Which means ∂E/∂X for one layer is ∂E/∂Y for the previous layer!  \n",
    "\n",
    "That’s it ! It’s just a clever way to propagate the error ! Again, we can use the chain rule :\n",
    "\n",
    "![Layers](./Images/7nn.png)"
   ]
  },
  {
   "cell_type": "markdown",
   "metadata": {},
   "source": [
    "This is very important, it’s the key to understand backpropagation ! After that, we’ll be able to code a Deep Convolutional Neural Network from scratch in no time !\n",
    "Diagram to understand backpropagation\n",
    "\n",
    "This is what I described earlier. Layer 3 is going to update its parameters using ∂E/∂Y, and is then going to pass ∂E/∂H2 to the previous layer, which is its own “∂E/∂Y”. Layer 2 is then going to do the same, and so on and so forth.\n",
    "\n",
    "![Layers](./Images/8nn.png)"
   ]
  },
  {
   "cell_type": "markdown",
   "metadata": {},
   "source": [
    "This may seem abstract here, but it will get very clear when we will apply this to a specific type of layer. Speaking of abstract, now is a good time to write our first python class.\n",
    "\n",
    "### Abstract Base Class : Layer\n",
    "\n",
    "The abstract class Layer, which all other layers will inherit from, handles simple properties which are an input, an output, and both a forward and backward methods."
   ]
  },
  {
   "cell_type": "code",
   "execution_count": 1,
   "metadata": {},
   "outputs": [],
   "source": [
    "# Base class\n",
    "class Layer:\n",
    "    def __init__(self):\n",
    "        self.input = None\n",
    "        self.output = None\n",
    "\n",
    "    # computes the output Y of a layer for a given input X\n",
    "    def forward_propagation(self, input):\n",
    "        raise NotImplementedError\n",
    "\n",
    "    # computes dE/dX for a given dE/dY (and update parameters if any)\n",
    "    def backward_propagation(self, output_error, learning_rate):\n",
    "        raise NotImplementedError"
   ]
  },
  {
   "cell_type": "markdown",
   "metadata": {},
   "source": [
    "As you can see there is an extra parameter in backward_propagation that I didn’t mention, it is the learning_rate. This parameter should be something like an update policy, or an optimizer as they call it in Keras, but for the sake of simplicity we’re simply going to pass a learning rate and update our parameters using gradient descent.\n",
    "\n",
    "### Fully Connected Layer\n",
    "\n",
    "Now let's define and implement the first type of layer: fully connected layer or FC layer. FC layers are the most basic layers as every input neurons are connected to every output neurons.\n",
    "\n",
    "![Layers](./Images/9nn.png)"
   ]
  },
  {
   "cell_type": "markdown",
   "metadata": {},
   "source": [
    "### Forward Propagation\n",
    "\n",
    "The value of each output neuron can be calculated as the following :\n",
    "\n",
    "![Layers](./Images/10nn.png)"
   ]
  },
  {
   "cell_type": "markdown",
   "metadata": {},
   "source": [
    "With matrices, we can compute this formula for every output neuron in one shot using a dot product:  \n",
    "![Layers](./Images/11nn.png)\n",
    "\n",
    "![Layers](./Images/12nn.png)"
   ]
  },
  {
   "cell_type": "markdown",
   "metadata": {},
   "source": [
    "We’re done with the forward pass. Now let’s do the backward pass of the FC layer.\n",
    "\n",
    "Note that I’m not using any activation function yet, that’s because we will implement it in a separate layer!\n",
    "Backward Propagation\n",
    "\n",
    "As we said, suppose we have a matrix containing the derivative of the error with respect to that layer’s output (∂E/∂Y). We need :\n",
    "\n",
    "+ The derivative of the error with respect to the parameters (∂E/∂W, ∂E/∂B)\n",
    "+ The derivative of the error with respect to the input (∂E/∂X)\n",
    "\n",
    "Let's calculate ∂E/∂W. This matrix should be the same size as W itself : ixj where i is the number of input neurons and j the number of output neurons.  \n",
    "We need one gradient for every weight:  \n",
    "\n",
    "![Layers](./Images/13nn.png)"
   ]
  },
  {
   "cell_type": "markdown",
   "metadata": {},
   "source": [
    "Using the chain rule stated earlier, we can write:\n",
    "\n",
    "![Layers](./Images/14nn.png)"
   ]
  },
  {
   "cell_type": "markdown",
   "metadata": {},
   "source": [
    "Therefore,  \n",
    "![Layers](./Images/15nn.png)"
   ]
  },
  {
   "cell_type": "markdown",
   "metadata": {},
   "source": [
    "That’s it we have the first formula to update the weights! Now let's calculate ∂E/∂B.  \n",
    "![Layers](./Images/16nn.png)"
   ]
  },
  {
   "cell_type": "markdown",
   "metadata": {},
   "source": [
    "Again ∂E/∂B needs to be of the same size as B itself, one gradient per bias. We can use the chain rule again:\n",
    "\n",
    "![Layers](./Images/17nn.png)"
   ]
  },
  {
   "cell_type": "markdown",
   "metadata": {},
   "source": [
    "And conclude that:\n",
    "\n",
    "![Layers](./Images/18nn.png)"
   ]
  },
  {
   "cell_type": "markdown",
   "metadata": {},
   "source": [
    "Now that we have ∂E/∂W and ∂E/∂B, we are left with ∂E/∂X which is very important as it will “act” as ∂E/∂Y for the layer before that one.\n",
    "\n",
    "![Layers](./Images/19nn.png)"
   ]
  },
  {
   "cell_type": "markdown",
   "metadata": {},
   "source": [
    "Again, using the chain rule:  \n",
    "![Layers](./Images/20nn.png)"
   ]
  },
  {
   "cell_type": "markdown",
   "metadata": {},
   "source": [
    "Finally, we can write the whole matrix:\n",
    "\n",
    "![Layers](./Images/21nn.png)"
   ]
  },
  {
   "cell_type": "markdown",
   "metadata": {},
   "source": [
    "That’s it! We have the three formulas we needed for the FC layer!\n",
    "\n",
    "![Layers](./Images/22nn.png)"
   ]
  },
  {
   "cell_type": "markdown",
   "metadata": {},
   "source": [
    "Coding the Fully Connected Layer\n",
    "\n",
    "We can now write some python code to bring this math to life!"
   ]
  },
  {
   "cell_type": "code",
   "execution_count": 2,
   "metadata": {},
   "outputs": [],
   "source": [
    "import numpy as np\n",
    "\n",
    "# inherit from base class Layer\n",
    "class FCLayer(Layer):\n",
    "    # input_size = number of input neurons\n",
    "    # output_size = number of output neurons\n",
    "    def __init__(self, input_size, output_size):\n",
    "        self.weights = np.random.rand(input_size, output_size) - 0.5\n",
    "        self.bias = np.random.rand(1, output_size) - 0.5\n",
    "\n",
    "    # returns output for a given input\n",
    "    def forward_propagation(self, input_data):\n",
    "        self.input = input_data\n",
    "        self.output = np.dot(self.input, self.weights) + self.bias\n",
    "        return self.output\n",
    "\n",
    "    # computes dE/dW, dE/dB for a given output_error=dE/dY. Returns input_error=dE/dX.\n",
    "    def backward_propagation(self, output_error, learning_rate):\n",
    "        input_error = np.dot(output_error, self.weights.T)\n",
    "        weights_error = np.dot(self.input.T, output_error)\n",
    "        # dBias = output_error\n",
    "\n",
    "        # update parameters\n",
    "        self.weights -= learning_rate * weights_error\n",
    "        self.bias -= learning_rate * output_error\n",
    "        return input_error"
   ]
  },
  {
   "cell_type": "markdown",
   "metadata": {},
   "source": [
    "### Activation Layer\n",
    "\n",
    "All the calculation we did until now were completely linear. It's hopeless to learn anything with that kind of model. We need to add non-linearity to the model by applying non-linear functions to the output of some layers.\n",
    "\n",
    "Now we need to redo the whole process for this new type of layer!\n",
    "\n",
    "No worries, it’s going to be way faster as there are no learnable parameters. We just need to calculate ∂E/∂X.\n",
    "\n",
    "We will call f and f' the activation function and its derivative respectively.\n",
    "\n",
    "![Layers](./Images/23nn.png)"
   ]
  },
  {
   "cell_type": "markdown",
   "metadata": {},
   "source": [
    "### Forward Propagation\n",
    "\n",
    "As you will see, it is quite straightforward. For a given input X , the output is simply the activation function applied to every element of X . Which means input and output have the same dimensions.\n",
    "\n",
    "![Layers](./Images/24nn.png)"
   ]
  },
  {
   "cell_type": "markdown",
   "metadata": {},
   "source": [
    "### Backward Propagation\n",
    "\n",
    "Given ∂E/∂Y, we want to calculate ∂E/∂X.\n",
    "\n",
    "![Layers](./Images/25nn.png)"
   ]
  },
  {
   "cell_type": "markdown",
   "metadata": {},
   "source": [
    "Be careful, here we are using an element-wise multiplication between the two matrices (whereas in the formulas above, it was a dot product).\n",
    "\n",
    "### Coding the Activation Layer\n",
    "\n",
    "The code for the activation layer is as straightforward."
   ]
  },
  {
   "cell_type": "code",
   "execution_count": 3,
   "metadata": {},
   "outputs": [],
   "source": [
    "# inherit from base class Layer\n",
    "class ActivationLayer(Layer):\n",
    "    def __init__(self, activation, activation_prime):\n",
    "        self.activation = activation\n",
    "        self.activation_prime = activation_prime\n",
    "\n",
    "    # returns the activated input\n",
    "    def forward_propagation(self, input_data):\n",
    "        self.input = input_data\n",
    "        self.output = self.activation(self.input)\n",
    "        return self.output\n",
    "\n",
    "    # Returns input_error=dE/dX for a given output_error=dE/dY.\n",
    "    # learning_rate is not used because there is no \"learnable\" parameters.\n",
    "    def backward_propagation(self, output_error, learning_rate):\n",
    "        return self.activation_prime(self.input) * output_error"
   ]
  },
  {
   "cell_type": "markdown",
   "metadata": {},
   "source": [
    "You can also write some activation functions and their derivatives in a separate file. These will be used later to create an ActivationLayer."
   ]
  },
  {
   "cell_type": "code",
   "execution_count": 4,
   "metadata": {},
   "outputs": [],
   "source": [
    "# activation function and its derivative\n",
    "def tanh(x):\n",
    "    return np.tanh(x);\n",
    "\n",
    "def tanh_prime(x):\n",
    "    return 1-np.tanh(x)**2;"
   ]
  },
  {
   "cell_type": "markdown",
   "metadata": {},
   "source": [
    "### Loss Function\n",
    "\n",
    "Until now, for a given layer, we supposed that ∂E/∂Y was given (by the next layer). But what happens to the last layer? How does it get ∂E/∂Y? We simply give it manually, and it depends on how we define the error.\n",
    "\n",
    "The error of the network, which measures how good or bad the network did for a given input data, is defined by you. There are many ways to define the error, and one of the most known is called MSE — Mean Squared Error.\n",
    "\n",
    "![Layers](./Images/26nn.png)"
   ]
  },
  {
   "cell_type": "markdown",
   "metadata": {},
   "source": [
    "Where y* and y denotes desired output and actual output respectively. You can think of the loss as a last layer which takes all the output neurons and squashes them into one single neuron. What we need now, as for every other layer, is to define ∂E/∂Y. Except now, we finally reached E!\n",
    "\n",
    "![Layers](./Images/27nn.png)"
   ]
  },
  {
   "cell_type": "markdown",
   "metadata": {},
   "source": [
    "These are simply two python functions that you can put in a separate file. They will be used when creating the network."
   ]
  },
  {
   "cell_type": "code",
   "execution_count": 5,
   "metadata": {},
   "outputs": [],
   "source": [
    "# loss function and its derivative\n",
    "def mse(y_true, y_pred):\n",
    "    return np.mean(np.power(y_true-y_pred, 2));\n",
    "\n",
    "def mse_prime(y_true, y_pred):\n",
    "    return 2*(y_pred-y_true)/y_true.size;"
   ]
  },
  {
   "cell_type": "markdown",
   "metadata": {},
   "source": [
    "Network Class\n",
    "\n",
    "Almost done ! We are going to make a Network class to create neural networks very easily akin the first picture !\n",
    "\n",
    "I commented almost every part of the code, it shouldn’t be too complicated to understand if you grasped the previous steps. Nevertheless, leave a comment if you have any question, I will gladly answer !"
   ]
  },
  {
   "cell_type": "code",
   "execution_count": 6,
   "metadata": {},
   "outputs": [],
   "source": [
    "class Network:\n",
    "    def __init__(self):\n",
    "        self.layers = []\n",
    "        self.loss = None\n",
    "        self.loss_prime = None\n",
    "\n",
    "    # add layer to network\n",
    "    def add(self, layer):\n",
    "        self.layers.append(layer)\n",
    "\n",
    "    # set loss to use\n",
    "    def use(self, loss, loss_prime):\n",
    "        self.loss = loss\n",
    "        self.loss_prime = loss_prime\n",
    "\n",
    "    # predict output for given input\n",
    "    def predict(self, input_data):\n",
    "        # sample dimension first\n",
    "        samples = len(input_data)\n",
    "        result = []\n",
    "\n",
    "        # run network over all samples\n",
    "        for i in range(samples):\n",
    "            # forward propagation\n",
    "            output = input_data[i]\n",
    "            for layer in self.layers:\n",
    "                output = layer.forward_propagation(output)\n",
    "            result.append(output)\n",
    "\n",
    "        return result\n",
    "\n",
    "    # train the network\n",
    "    \n",
    "    def fit(self, x_train, y_train, epochs, learning_rate):\n",
    "        # sample dimension first\n",
    "        samples = len(x_train)\n",
    "\n",
    "        # training loop\n",
    "        for i in range(epochs):\n",
    "            err = 0\n",
    "            for j in range(samples):\n",
    "                # forward propagation\n",
    "                output = x_train[j]\n",
    "                for layer in self.layers:\n",
    "                    output = layer.forward_propagation(output)\n",
    "\n",
    "                # compute loss (for display purpose only)\n",
    "                err += self.loss(y_train[j], output)\n",
    "\n",
    "                # backward propagation\n",
    "                error = self.loss_prime(y_train[j], output)\n",
    "                for layer in reversed(self.layers):\n",
    "                    error = layer.backward_propagation(error, learning_rate)\n",
    "\n",
    "            # calculate average error on all samples\n",
    "            err /= samples\n",
    "            if i%10==0:\n",
    "                print('epoch %d/%d   error=%f' % (i+1, epochs, err))"
   ]
  },
  {
   "cell_type": "markdown",
   "metadata": {},
   "source": [
    "### Building Neural Networks\n",
    "\n",
    "Finally ! We can use our class to create a neural network with as many layers as we want ! We are going to build two neural networks : a simple XOR and a MNIST solver.\n",
    "\n",
    "### Solve XOR\n",
    "\n",
    "Starting with XOR is always important as it’s a simple way to tell if the network is learning anything at all."
   ]
  },
  {
   "cell_type": "code",
   "execution_count": 7,
   "metadata": {},
   "outputs": [
    {
     "name": "stdout",
     "output_type": "stream",
     "text": [
      "epoch 1/1000   error=0.391465\n",
      "epoch 11/1000   error=0.290732\n",
      "epoch 21/1000   error=0.288188\n",
      "epoch 31/1000   error=0.286299\n",
      "epoch 41/1000   error=0.284844\n",
      "epoch 51/1000   error=0.283700\n",
      "epoch 61/1000   error=0.282784\n",
      "epoch 71/1000   error=0.282045\n",
      "epoch 81/1000   error=0.281444\n",
      "epoch 91/1000   error=0.280958\n",
      "epoch 101/1000   error=0.280566\n",
      "epoch 111/1000   error=0.280253\n",
      "epoch 121/1000   error=0.280004\n",
      "epoch 131/1000   error=0.279809\n",
      "epoch 141/1000   error=0.279655\n",
      "epoch 151/1000   error=0.279534\n",
      "epoch 161/1000   error=0.279440\n",
      "epoch 171/1000   error=0.279365\n",
      "epoch 181/1000   error=0.279305\n",
      "epoch 191/1000   error=0.279257\n",
      "epoch 201/1000   error=0.279218\n",
      "epoch 211/1000   error=0.279186\n",
      "epoch 221/1000   error=0.279158\n",
      "epoch 231/1000   error=0.279135\n",
      "epoch 241/1000   error=0.279115\n",
      "epoch 251/1000   error=0.279097\n",
      "epoch 261/1000   error=0.279081\n",
      "epoch 271/1000   error=0.279067\n",
      "epoch 281/1000   error=0.279054\n",
      "epoch 291/1000   error=0.279042\n",
      "epoch 301/1000   error=0.279031\n",
      "epoch 311/1000   error=0.279021\n",
      "epoch 321/1000   error=0.279012\n",
      "epoch 331/1000   error=0.279003\n",
      "epoch 341/1000   error=0.278994\n",
      "epoch 351/1000   error=0.278986\n",
      "epoch 361/1000   error=0.278979\n",
      "epoch 371/1000   error=0.278972\n",
      "epoch 381/1000   error=0.278965\n",
      "epoch 391/1000   error=0.278958\n",
      "epoch 401/1000   error=0.278952\n",
      "epoch 411/1000   error=0.278946\n",
      "epoch 421/1000   error=0.278941\n",
      "epoch 431/1000   error=0.278935\n",
      "epoch 441/1000   error=0.278930\n",
      "epoch 451/1000   error=0.278925\n",
      "epoch 461/1000   error=0.278920\n",
      "epoch 471/1000   error=0.278916\n",
      "epoch 481/1000   error=0.278912\n",
      "epoch 491/1000   error=0.278908\n",
      "epoch 501/1000   error=0.278904\n",
      "epoch 511/1000   error=0.278900\n",
      "epoch 521/1000   error=0.278896\n",
      "epoch 531/1000   error=0.278893\n",
      "epoch 541/1000   error=0.278889\n",
      "epoch 551/1000   error=0.278886\n",
      "epoch 561/1000   error=0.278883\n",
      "epoch 571/1000   error=0.278880\n",
      "epoch 581/1000   error=0.278877\n",
      "epoch 591/1000   error=0.278875\n",
      "epoch 601/1000   error=0.278872\n",
      "epoch 611/1000   error=0.278870\n",
      "epoch 621/1000   error=0.278867\n",
      "epoch 631/1000   error=0.278865\n",
      "epoch 641/1000   error=0.278863\n",
      "epoch 651/1000   error=0.278860\n",
      "epoch 661/1000   error=0.278858\n",
      "epoch 671/1000   error=0.278856\n",
      "epoch 681/1000   error=0.278854\n",
      "epoch 691/1000   error=0.278852\n",
      "epoch 701/1000   error=0.278851\n",
      "epoch 711/1000   error=0.278849\n",
      "epoch 721/1000   error=0.278847\n",
      "epoch 731/1000   error=0.278846\n",
      "epoch 741/1000   error=0.278844\n",
      "epoch 751/1000   error=0.278843\n",
      "epoch 761/1000   error=0.278841\n",
      "epoch 771/1000   error=0.278840\n",
      "epoch 781/1000   error=0.278838\n",
      "epoch 791/1000   error=0.278837\n",
      "epoch 801/1000   error=0.278836\n",
      "epoch 811/1000   error=0.278834\n",
      "epoch 821/1000   error=0.278833\n",
      "epoch 831/1000   error=0.278832\n",
      "epoch 841/1000   error=0.278831\n",
      "epoch 851/1000   error=0.278830\n",
      "epoch 861/1000   error=0.278829\n",
      "epoch 871/1000   error=0.278828\n",
      "epoch 881/1000   error=0.278827\n",
      "epoch 891/1000   error=0.278826\n",
      "epoch 901/1000   error=0.278825\n",
      "epoch 911/1000   error=0.278824\n",
      "epoch 921/1000   error=0.278823\n",
      "epoch 931/1000   error=0.278822\n",
      "epoch 941/1000   error=0.278821\n",
      "epoch 951/1000   error=0.278821\n",
      "epoch 961/1000   error=0.278820\n",
      "epoch 971/1000   error=0.278819\n",
      "epoch 981/1000   error=0.278818\n",
      "epoch 991/1000   error=0.278818\n",
      "[array([[0.52321765]]), array([[0.52666303]]), array([[0.51523154]]), array([[0.51873529]])]\n"
     ]
    }
   ],
   "source": [
    "### training data\n",
    "x_train = np.array([[[0,0]], [[0,1]], [[1,0]], [[1,1]]])\n",
    "y_train = np.array([[[0]], [[1]], [[1]], [[0]]])\n",
    "\n",
    "# network\n",
    "net = Network()\n",
    "net.add(FCLayer(2, 3))\n",
    "net.add(ActivationLayer(tanh, tanh_prime))\n",
    "net.add(FCLayer(3, 1))\n",
    "net.add(ActivationLayer(tanh, tanh_prime))\n",
    "\n",
    "# train\n",
    "net.use(mse, mse_prime)\n",
    "net.fit(x_train, y_train, epochs=1000, learning_rate=0.1)\n",
    "\n",
    "# test\n",
    "out = net.predict(x_train)\n",
    "print(out)"
   ]
  },
  {
   "cell_type": "markdown",
   "metadata": {},
   "source": [
    "Clearly this is working, great ! We can now solve something more interesting, let’s solve MNIST!\n",
    "\n",
    "### Solve MNIST\n",
    "\n",
    "We didn’t implemented the Convolutional Layer but this is not a problem. All we need to do is to reshape our data so that it can fit into a Fully Connected Layer.\n",
    "\n",
    "MNIST Dataset consists of images of digits from 0 to 9, of shape 28x28x1. The goal is to predict what digit is drawn on a picture."
   ]
  },
  {
   "cell_type": "code",
   "execution_count": 8,
   "metadata": {},
   "outputs": [
    {
     "name": "stdout",
     "output_type": "stream",
     "text": [
      "epoch 1/35   error=0.231561\n",
      "epoch 11/35   error=0.026997\n",
      "epoch 21/35   error=0.014617\n",
      "epoch 31/35   error=0.009306\n",
      "\n",
      "\n",
      "predicted values : \n",
      "[array([[-0.01573088, -0.00786542,  0.07046212, -0.00753169, -0.01919322,\n",
      "         0.06868658, -0.01389549,  0.97721668, -0.01374097, -0.11006646]]), array([[ 0.00220051, -0.02219056,  0.07980199, -0.03489873, -0.01718446,\n",
      "         0.86471401,  0.03451206, -0.00786398,  0.19289448, -0.13377906]]), array([[ 0.01089567,  0.97777985, -0.02466341, -0.02268223,  0.01830103,\n",
      "         0.08737816, -0.01471517,  0.00675599, -0.06716006,  0.08072079]])]\n",
      "true values : \n",
      "[[0. 0. 0. 0. 0. 0. 0. 1. 0. 0.]\n",
      " [0. 0. 1. 0. 0. 0. 0. 0. 0. 0.]\n",
      " [0. 1. 0. 0. 0. 0. 0. 0. 0. 0.]]\n"
     ]
    }
   ],
   "source": [
    "from keras.datasets import mnist\n",
    "from keras.utils import np_utils\n",
    "\n",
    "# load MNIST from server\n",
    "(x_train, y_train), (x_test, y_test) = mnist.load_data()\n",
    "\n",
    "# training data : 60000 samples\n",
    "# reshape and normalize input data\n",
    "x_train = x_train.reshape(x_train.shape[0], 1, 28*28)\n",
    "x_train = x_train.astype('float32')\n",
    "x_train /= 255\n",
    "# encode output which is a number in range [0,9] into a vector of size 10\n",
    "# e.g. number 3 will become [0, 0, 0, 1, 0, 0, 0, 0, 0, 0]\n",
    "y_train = np_utils.to_categorical(y_train)\n",
    "\n",
    "# same for test data : 10000 samples\n",
    "x_test = x_test.reshape(x_test.shape[0], 1, 28*28)\n",
    "x_test = x_test.astype('float32')\n",
    "x_test /= 255\n",
    "y_test = np_utils.to_categorical(y_test)\n",
    "\n",
    "# Network\n",
    "net = Network()\n",
    "net.add(FCLayer(28*28, 100))                # input_shape=(1, 28*28)    ;   output_shape=(1, 100)\n",
    "net.add(ActivationLayer(tanh, tanh_prime))\n",
    "net.add(FCLayer(100, 50))                   # input_shape=(1, 100)      ;   output_shape=(1, 50)\n",
    "net.add(ActivationLayer(tanh, tanh_prime))\n",
    "net.add(FCLayer(50, 10))                    # input_shape=(1, 50)       ;   output_shape=(1, 10)\n",
    "net.add(ActivationLayer(tanh, tanh_prime))\n",
    "\n",
    "# train on 1000 samples\n",
    "# as we didn't implemented mini-batch GD, training will be pretty slow if we update at each iteration on 60000 samples...\n",
    "net.use(mse, mse_prime)\n",
    "net.fit(x_train[0:1000], y_train[0:1000], epochs=35, learning_rate=0.1)\n",
    "\n",
    "# test on 3 samples\n",
    "out = net.predict(x_test[0:3])\n",
    "print(\"\\n\")\n",
    "print(\"predicted values : \")\n",
    "print(out, end=\"\\n\")\n",
    "print(\"true values : \")\n",
    "print(y_test[0:3])"
   ]
  },
  {
   "cell_type": "markdown",
   "metadata": {},
   "source": [
    "This is working perfectly ! Amazing :)"
   ]
  },
  {
   "cell_type": "code",
   "execution_count": null,
   "metadata": {},
   "outputs": [],
   "source": []
  }
 ],
 "metadata": {
  "colab": {
   "collapsed_sections": [],
   "name": "Neural Networks with Numpy for Absolute Beginners - Part 3: Logistic Regression",
   "provenance": [],
   "version": "0.3.2"
  },
  "kernelspec": {
   "display_name": "Python 3",
   "language": "python",
   "name": "python3"
  },
  "language_info": {
   "codemirror_mode": {
    "name": "ipython",
    "version": 3
   },
   "file_extension": ".py",
   "mimetype": "text/x-python",
   "name": "python",
   "nbconvert_exporter": "python",
   "pygments_lexer": "ipython3",
   "version": "3.8.2"
  }
 },
 "nbformat": 4,
 "nbformat_minor": 4
}
