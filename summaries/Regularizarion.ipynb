{
 "metadata": {
  "language_info": {
   "codemirror_mode": {
    "name": "ipython",
    "version": 3
   },
   "file_extension": ".py",
   "mimetype": "text/x-python",
   "name": "python",
   "nbconvert_exporter": "python",
   "pygments_lexer": "ipython3",
   "version": 3
  },
  "orig_nbformat": 2
 },
 "nbformat": 4,
 "nbformat_minor": 2,
 "cells": [
  {
   "source": [
    "# Regularization for Deep Learning \n",
    "\n",
    "## Parameter Norm Penalties \n",
    "\n",
    "We typically choose to use a parameter norm penalty $\\Omega$ that penalizes only the weights of the aﬃne transformation at each layer andleaves the biases unregularized. \n",
    "\n",
    "### $L^2$ Parameter Regularization\n",
    "\n",
    "This regularization strategy drives the weights closer to the origin by adding a regularization term $\\Omega(\\theta) = \\frac{1}{2}||w||^2$ to the objective function. In other academic communities, $L^2$ regularization is also known as ridge regression or Tikhonov regularization.\n",
    "\n",
    "$$\n",
    "\\tilde{J}(w; X, y) = \\frac{\\alpha}{2}w^Tw + J(w; X,y)\n",
    "$$"
   ],
   "cell_type": "markdown",
   "metadata": {}
  },
  {
   "cell_type": "code",
   "execution_count": null,
   "metadata": {},
   "outputs": [],
   "source": []
  }
 ]
}